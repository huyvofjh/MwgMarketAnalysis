{
 "cells": [
  {
   "cell_type": "code",
   "execution_count": 1,
   "id": "ac33213d",
   "metadata": {},
   "outputs": [],
   "source": [
    "# Import libraries\n",
    "from selenium import webdriver\n",
    "from selenium.webdriver.support.select import Select\n",
    "from selenium.webdriver.common.by import By\n",
    "from selenium.common.exceptions import StaleElementReferenceException\n",
    "import pandas as pd\n",
    "import time"
   ]
  },
  {
   "cell_type": "markdown",
   "id": "5e1fbc2f",
   "metadata": {},
   "source": [
    "### Crawl MWG data"
   ]
  },
  {
   "cell_type": "code",
   "execution_count": 2,
   "id": "6297dca4",
   "metadata": {},
   "outputs": [
    {
     "name": "stderr",
     "output_type": "stream",
     "text": [
      "C:\\Users\\Acer\\AppData\\Local\\Temp\\ipykernel_13876\\2334899597.py:2: DeprecationWarning: executable_path has been deprecated, please pass in a Service object\n",
      "  driver = webdriver.Chrome('chromedriver.exe')\n"
     ]
    }
   ],
   "source": [
    "# Declare browser \n",
    "driver = webdriver.Chrome('chromedriver.exe')\n",
    "\n",
    "# Open url\n",
    "driver.get('https://cafef.vn/')\n",
    "driver.maximize_window()\n",
    "time.sleep(1)\n",
    "\n",
    "stock_name = driver.find_element(By.ID,'CafeF_SearchKeyword_Company')\n",
    "stock_name.click()\n",
    "stock_name.send_keys('MWG')\n",
    "time.sleep(1)\n",
    "\n",
    "search = driver.find_element(By.XPATH, '//div[@class=\"searchbox clearfix\"]/a')\n",
    "search.click()\n",
    "time.sleep(1)\n",
    "\n",
    "view_all = driver.find_element(By.XPATH,'//div[@class=\"xemtiep clearfix\"]/a')\n",
    "view_all.click()\n",
    "time.sleep(1)\n",
    "\n",
    "# Focus to the newly opened page\n",
    "driver.switch_to.window(driver.window_handles[-1])\n",
    "from_date = driver.find_element(By.NAME,'ctl00$ContentPlaceHolder1$ctl03$dpkTradeDate1$txtDatePicker')\n",
    "from_date.click()\n",
    "from_date.send_keys('02/06/2021')\n",
    "\n",
    "to_date = driver.find_element(By.NAME,'ctl00$ContentPlaceHolder1$ctl03$dpkTradeDate2$txtDatePicker')\n",
    "to_date.click()\n",
    "to_date.send_keys('12/12/2022')\n",
    "\n",
    "view = driver.find_element(By.NAME,'ctl00$ContentPlaceHolder1$ctl03$btSearch')\n",
    "view.click()"
   ]
  },
  {
   "cell_type": "code",
   "execution_count": 3,
   "id": "07a1ff0b",
   "metadata": {},
   "outputs": [],
   "source": [
    "names, dates, prices = [], [], []\n",
    "stock = 'MWG'\n",
    "for i in range(3,23):\n",
    "    date_list = driver.find_elements(By.XPATH,'//table[@id=\"GirdTable2\"]/tbody/tr[{}]/td[1]'.format(i))\n",
    "    price_list = driver.find_elements(By.XPATH,'//table[@id=\"GirdTable2\"]/tbody/tr[{}]/td[2]'.format(i))\n",
    "    try:\n",
    "        for m in range(len(date_list)):\n",
    "            names.append(stock)\n",
    "            dates.append(date_list[m].text)\n",
    "            prices.append(price_list[m].text)\n",
    "    except StaleElementReferenceException:\n",
    "        pass\n",
    "time.sleep(5)\n",
    "\n",
    "for j in range(2,21):\n",
    "    next = driver.find_element(By.XPATH,'//a[@title=\" Next to Page {}\"]'.format(j))\n",
    "    next.click()\n",
    "    time.sleep(5)\n",
    "\n",
    "    for i in range(3,23):\n",
    "        date_list = driver.find_elements(By.XPATH,'//table[@id=\"GirdTable2\"]/tbody/tr[{}]/td[1]'.format(i))\n",
    "        price_list = driver.find_elements(By.XPATH,'//table[@id=\"GirdTable2\"]/tbody/tr[{}]/td[2]'.format(i))\n",
    "        try:\n",
    "            for m in range(len(date_list)):\n",
    "                names.append(stock)\n",
    "                dates.append(date_list[m].text)\n",
    "                prices.append(price_list[m].text)\n",
    "        except StaleElementReferenceException:\n",
    "            pass\n",
    "    time.sleep(1)"
   ]
  },
  {
   "cell_type": "markdown",
   "id": "4d40147e",
   "metadata": {},
   "source": [
    "### Crawl all data"
   ]
  },
  {
   "cell_type": "code",
   "execution_count": 4,
   "id": "94c7c7c0",
   "metadata": {},
   "outputs": [],
   "source": [
    "stocks = ['PDR', 'HPG', 'SSI', 'STB', 'NVL', 'VPB', 'MBB', 'POW', 'CTG', 'TPB', 'KDH', 'TCB', 'VHM', 'VRE'\n",
    "         'VIC', 'SBT', 'BID', 'VNM', 'MSN', 'HDB', 'PLX', 'VCB', 'FPT', 'VJC', 'REE', 'PNJ', 'BVH', 'GAS', 'TCH'] \n",
    "          \n",
    "for k in range(len(stocks)): \n",
    "    driver.find_element(By.NAME, 'ctl00$ContentPlaceHolder1$ctl03$txtKeyword').clear()\n",
    "    stock_search = driver.find_element(By.NAME, 'ctl00$ContentPlaceHolder1$ctl03$txtKeyword')\n",
    "    stock_search.click()\n",
    "    stock_search.send_keys(stocks[k])\n",
    "    stock_search.click()\n",
    "    time.sleep(1)\n",
    "\n",
    "    view = driver.find_element(By.NAME,'ctl00$ContentPlaceHolder1$ctl03$btSearch')\n",
    "    view.click()\n",
    "    time.sleep(5)\n",
    "    \n",
    "    for i in range(3,23):\n",
    "        date_list = driver.find_elements(By.XPATH,'//table[@id=\"GirdTable2\"]/tbody/tr[{}]/td[1]'.format(i))\n",
    "        price_list = driver.find_elements(By.XPATH,'//table[@id=\"GirdTable2\"]/tbody/tr[{}]/td[2]'.format(i))\n",
    "        try:\n",
    "            for m in range(len(date_list)):\n",
    "                names.append(stocks[k])\n",
    "                dates.append(date_list[m].text)\n",
    "                prices.append(price_list[m].text)\n",
    "        except StaleElementReferenceException:\n",
    "            pass \n",
    "        \n",
    "    time.sleep(5)\n",
    "\n",
    "    for j in range(2,21):\n",
    "        next = driver.find_element(By.XPATH,'//a[@title=\" Next to Page {}\"]'.format(j))\n",
    "        next.click()\n",
    "        time.sleep(5)\n",
    "\n",
    "        for i in range(3,23):\n",
    "            date_list = driver.find_elements(By.XPATH,'//table[@id=\"GirdTable2\"]/tbody/tr[{}]/td[1]'.format(i))\n",
    "            price_list = driver.find_elements(By.XPATH,'//table[@id=\"GirdTable2\"]/tbody/tr[{}]/td[2]'.format(i))\n",
    "            try:\n",
    "                for m in range(len(date_list)):\n",
    "                    names.append(stocks[k])\n",
    "                    dates.append(date_list[m].text)\n",
    "                    prices.append(price_list[m].text)\n",
    "            except StaleElementReferenceException:\n",
    "                pass \n",
    "\n",
    "    time.sleep(1)"
   ]
  },
  {
   "cell_type": "code",
   "execution_count": 5,
   "id": "67cb692a",
   "metadata": {},
   "outputs": [],
   "source": [
    "# Create dataframe \n",
    "df = pd.DataFrame(list(zip(names, dates, prices)), \n",
    "                 columns=['Name', 'Date', 'Price'])\n",
    "\n",
    "# Export csv file \n",
    "df.to_csv('StockData.csv', index=False)"
   ]
  }
 ],
 "metadata": {
  "kernelspec": {
   "display_name": "Python 3 (ipykernel)",
   "language": "python",
   "name": "python3"
  },
  "language_info": {
   "codemirror_mode": {
    "name": "ipython",
    "version": 3
   },
   "file_extension": ".py",
   "mimetype": "text/x-python",
   "name": "python",
   "nbconvert_exporter": "python",
   "pygments_lexer": "ipython3",
   "version": "3.9.12"
  }
 },
 "nbformat": 4,
 "nbformat_minor": 5
}
